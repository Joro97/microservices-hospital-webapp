{
 "cells": [
  {
   "cell_type": "code",
   "execution_count": 0,
   "metadata": {
    "id": "uWX6ksysxzZ1",
    "colab_type": "code",
    "colab": {}
   },
   "outputs": [],
   "source": [
    "!git clone https://github.com/Joro97/microservices-hospital-webapp"
   ]
  },
  {
   "cell_type": "code",
   "execution_count": 0,
   "metadata": {
    "id": "1uuGAhEEyiHx",
    "colab_type": "code",
    "colab": {}
   },
   "outputs": [],
   "source": [
    "# Install the PyDrive wrapper & import libraries.\n",
    "# This only needs to be done once per notebook.\n",
    "!pip install -U -q PyDrive\n",
    "from pydrive.auth import GoogleAuth\n",
    "from pydrive.drive import GoogleDrive\n",
    "from google.colab import auth\n",
    "from oauth2client.client import GoogleCredentials\n",
    "\n",
    "# Authenticate and create the PyDrive client.\n",
    "# This only needs to be done once per notebook.\n",
    "auth.authenticate_user()\n",
    "gauth = GoogleAuth()\n",
    "gauth.credentials = GoogleCredentials.get_application_default()\n",
    "drive = GoogleDrive(gauth)\n",
    "\n",
    "# Download a file based on its file ID.\n",
    "#\n",
    "# A file ID looks like: laggVyWshwcyP6kEI-y_W3P8D26sz\n",
    "# Put the file id for the input zip from your google drive\n",
    "# This is TsvetanKonstantinov input.zip file id. You will not be able to use it\n",
    "file_id = '1O6uMZlcmLVOiKyRGmv7W1KQcFtSIFzgN'\n",
    "downloaded = drive.CreateFile({'id': file_id})\n",
    "print(downloaded)"
   ]
  },
  {
   "cell_type": "code",
   "execution_count": 0,
   "metadata": {
    "id": "eIdGTOJs293F",
    "colab_type": "code",
    "colab": {}
   },
   "outputs": [],
   "source": [
    "# The python scripts expect the input.zip to be in this directory\n",
    "downloaded.GetContentFile(\"microservices-hospital-webapp/skin-cancer-model-training/input.zip\")"
   ]
  },
  {
   "cell_type": "code",
   "execution_count": 0,
   "metadata": {
    "id": "gkvJPvCv-gps",
    "colab_type": "code",
    "colab": {}
   },
   "outputs": [],
   "source": [
    "# This is needed for mounting the google drive to save the model weights\n",
    "!apt-get install -y -qq software-properties-common python-software-properties module-init-tools\n",
    "!add-apt-repository -y ppa:alessandro-strada/ppa 2>&1 > /dev/null\n",
    "!apt-get update -qq 2>&1 > /dev/null\n",
    "!apt-get -y install -qq google-drive-ocamlfuse fuse\n",
    "from google.colab import auth\n",
    "auth.authenticate_user()\n",
    "from oauth2client.client import GoogleCredentials\n",
    "creds = GoogleCredentials.get_application_default()\n",
    "import getpass\n",
    "!google-drive-ocamlfuse -headless -id={creds.client_id} -secret={creds.client_secret} < /dev/null 2>&1 | grep URL\n",
    "vcode = getpass.getpass()\n",
    "!echo {vcode} | google-drive-ocamlfuse -headless -id={creds.client_id} -secret={creds.client_secret}"
   ]
  },
  {
   "cell_type": "code",
   "execution_count": 0,
   "metadata": {
    "id": "PDezwCt7_Qgn",
    "colab_type": "code",
    "colab": {}
   },
   "outputs": [],
   "source": [
    "# Mount your google drive\n",
    "!mkdir -p drive\n",
    "!google-drive-ocamlfuse drive"
   ]
  },
  {
   "cell_type": "code",
   "execution_count": 0,
   "metadata": {
    "id": "vIh1XnnQ8Uf-",
    "colab_type": "code",
    "colab": {}
   },
   "outputs": [],
   "source": [
    "%run -i microservices-hospital-webapp/skin-cancer-model-training/src/train/train_and_eval.py -o drive/hospital-ml"
   ]
  },
  {
   "cell_type": "code",
   "execution_count": 0,
   "metadata": {
    "id": "Kog3g8_Eusw4",
    "colab_type": "code",
    "colab": {}
   },
   "outputs": [],
   "source": [
    ""
   ]
  }
 ],
 "metadata": {
  "colab": {
   "name": "model-train-skin-cancer.ipynb",
   "version": "0.3.2",
   "provenance": [
    {
     "file_id": "1iqjeWrEcX1gewofe9Je7kQ86kUT5E-8R",
     "timestamp": 1.545920100814E12
    }
   ],
   "collapsed_sections": []
  },
  "kernelspec": {
   "name": "python3",
   "display_name": "Python 3"
  },
  "accelerator": "GPU"
 },
 "nbformat": 4,
 "nbformat_minor": 0
}
